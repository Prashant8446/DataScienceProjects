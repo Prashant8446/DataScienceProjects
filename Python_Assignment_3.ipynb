{
 "cells": [
  {
   "cell_type": "markdown",
   "id": "86ee91bc",
   "metadata": {},
   "source": [
    "# Python Assignment 3 solved"
   ]
  },
  {
   "cell_type": "markdown",
   "id": "a7687fb1",
   "metadata": {},
   "source": [
    "1.1 Write a Python Program to implement your own myreduce() function which works exactly\n",
    "like Python's built-in function reduce()"
   ]
  },
  {
   "cell_type": "code",
   "execution_count": 1,
   "id": "d164d00f",
   "metadata": {},
   "outputs": [],
   "source": [
    "def myreduce(defination, listofElements, initializer=None):\n",
    "    it = iter(listofElements)\n",
    "    if initializer is None:\n",
    "        result = next(it)\n",
    "    else:\n",
    "        result = initializer\n",
    "    for element in it:\n",
    "        result = defination(result, element)\n",
    "    return result"
   ]
  },
  {
   "cell_type": "markdown",
   "id": "adfa370f",
   "metadata": {},
   "source": [
    "1.2 Write a Python program to implement your own myfilter() function which works exactly\n",
    "like Python's built-in function filter()"
   ]
  },
  {
   "cell_type": "code",
   "execution_count": 2,
   "id": "11da1eab",
   "metadata": {},
   "outputs": [],
   "source": [
    "def myfilter(function, iterator):\n",
    "    finallist = []\n",
    "    iterate = iter(iterator)\n",
    "    #number = next(iterator)\n",
    "    for element in iterate:\n",
    "        value = function(element)\n",
    "        if value == True:\n",
    "            finallist.append(element)\n",
    "        \n",
    "        \n",
    "    return finallist"
   ]
  },
  {
   "cell_type": "markdown",
   "id": "53f61394",
   "metadata": {},
   "source": [
    "2. Implement List comprehensions to produce the following lists.\n",
    "Write List comprehensions to produce the following Lists"
   ]
  },
  {
   "cell_type": "markdown",
   "id": "57d16fc7",
   "metadata": {},
   "source": [
    "['x', 'xx', 'xxx', 'xxxx', 'y', 'yy', 'yyy', 'yyyy', 'z', 'zz', 'zzz', 'zzzz']"
   ]
  },
  {
   "cell_type": "code",
   "execution_count": 3,
   "id": "3d9f8062",
   "metadata": {},
   "outputs": [
    {
     "name": "stdout",
     "output_type": "stream",
     "text": [
      "['x', 'xx', 'xxx', 'xxxx', 'y', 'yy', 'yyy', 'yyyy', 'z', 'zz', 'zzz', 'zzzz']\n"
     ]
    }
   ],
   "source": [
    "letters = [\"x\",\"y\",\"z\"]\n",
    "finallist = []\n",
    "for i in letters:\n",
    "    for j in range(1,5):\n",
    "        finallist.append(i*j)\n",
    "    \n",
    "print(finallist)"
   ]
  },
  {
   "cell_type": "markdown",
   "id": "13af9b26",
   "metadata": {},
   "source": [
    "['x', 'y', 'z', 'xx', 'yy', 'zz', 'xxx', 'yyy', 'zzz', 'xxxx', 'yyyy', 'zzzz']"
   ]
  },
  {
   "cell_type": "code",
   "execution_count": 5,
   "id": "d3b35a70",
   "metadata": {},
   "outputs": [
    {
     "name": "stdout",
     "output_type": "stream",
     "text": [
      "['x', 'y', 'z', 'xx', 'yy', 'zz', 'xxx', 'yyy', 'zzz', 'xxxx', 'yyyy', 'zzzz']\n"
     ]
    }
   ],
   "source": [
    "listtwo= [\"x\", \"y\", \"z\"]\n",
    "finallisttwo = []\n",
    "for j in range (1,5):\n",
    "    for i in listtwo:\n",
    "        finallisttwo.append(j*i)\n",
    "        \n",
    "print(finallisttwo)"
   ]
  },
  {
   "cell_type": "markdown",
   "id": "d48cdffc",
   "metadata": {},
   "source": [
    "[(1, 1), (2, 1), (3, 1), (1, 2), (2, 2), (3, 2), (1, 3), (2, 3), (3, 3)]"
   ]
  },
  {
   "cell_type": "code",
   "execution_count": 6,
   "id": "3d5b12a0",
   "metadata": {},
   "outputs": [
    {
     "data": {
      "text/plain": [
       "[(1, 1), (2, 1), (3, 1), (1, 2), (2, 2), (3, 2), (1, 3), (2, 3), (3, 3)]"
      ]
     },
     "execution_count": 6,
     "metadata": {},
     "output_type": "execute_result"
    }
   ],
   "source": [
    "mainlist = []\n",
    "for i in range(1,4):\n",
    "    for j in range(1,4):\n",
    "        mainlist.append((j,i))\n",
    "\n",
    "mainlist"
   ]
  },
  {
   "cell_type": "markdown",
   "id": "070b3d05",
   "metadata": {},
   "source": [
    "[[2], [3], [4], [3], [4], [5], [4], [5], [6]] [[2, 3, 4, 5], [3, 4, 5, 6],\n",
    "[4, 5, 6, 7], [5, 6, 7, 8]]"
   ]
  },
  {
   "cell_type": "code",
   "execution_count": 8,
   "id": "8373d256",
   "metadata": {},
   "outputs": [
    {
     "name": "stdout",
     "output_type": "stream",
     "text": [
      "[[2], [3], [4], [3], [4], [5], [4], [5], [6]][[2, 3, 4, 5], [2, 3, 4, 5], [2, 3, 4, 5], [2, 3, 4, 5]]"
     ]
    }
   ],
   "source": [
    "listone = []\n",
    "number = 3\n",
    "for j in range (3):\n",
    "    number = number -2\n",
    "    for l in range(3):\n",
    "        number = number +1\n",
    "        k =[]\n",
    "        \n",
    "        k.append(number)\n",
    "        listone.append(k)\n",
    "print(listone, end=\"\" )\n",
    "\n",
    "listsecond = []\n",
    "q = []\n",
    "count = 1\n",
    "for r in range(4):\n",
    "    count = count+1\n",
    "    q.append(count)\n",
    "    listsecond.append(q)\n",
    "\n",
    "    if (r==3):\n",
    "        count = count -2\n",
    "\n",
    "\n",
    "print(listsecond, end=\"\" )\n",
    "\n",
    "    \n",
    "\n",
    "  \n",
    "    "
   ]
  },
  {
   "cell_type": "code",
   "execution_count": null,
   "id": "71ecb47a",
   "metadata": {},
   "outputs": [],
   "source": []
  }
 ],
 "metadata": {
  "kernelspec": {
   "display_name": "Python 3",
   "language": "python",
   "name": "python3"
  },
  "language_info": {
   "codemirror_mode": {
    "name": "ipython",
    "version": 3
   },
   "file_extension": ".py",
   "mimetype": "text/x-python",
   "name": "python",
   "nbconvert_exporter": "python",
   "pygments_lexer": "ipython3",
   "version": "3.8.8"
  }
 },
 "nbformat": 4,
 "nbformat_minor": 5
}
