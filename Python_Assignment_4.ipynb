{
 "cells": [
  {
   "cell_type": "markdown",
   "id": "3137897f",
   "metadata": {},
   "source": [
    "# Python_Assignment_4"
   ]
  },
  {
   "cell_type": "markdown",
   "id": "f7d76fa5",
   "metadata": {},
   "source": [
    "1.1 Write a Python Program(with class concepts) to find the area of the triangle using the below\n",
    "formula.\n",
    "area = (s*(s-a)*(s-b)*(s-c)) ** 0.5\n",
    "\n",
    "Function to take the length of the sides of triangle from user should be defined in the parent\n",
    "class and function to calculate the area should be defined in subclass."
   ]
  },
  {
   "cell_type": "code",
   "execution_count": 1,
   "id": "1501f2ca",
   "metadata": {},
   "outputs": [
    {
     "name": "stdout",
     "output_type": "stream",
     "text": [
      "34.197039345533994\n"
     ]
    }
   ],
   "source": [
    "class lengthOfSides:\n",
    "    def __init__(self, side1, side2, side3):\n",
    "        self.side1 = side1\n",
    "        self.side2 = side2\n",
    "        self.side3 = side3\n",
    "        \n",
    "        \n",
    "class area(lengthOfSides):\n",
    "    def areaOfTriangle(self):\n",
    "        Sum = self.side1 + self.side2 + self.side3\n",
    "        S = Sum/2\n",
    "        finalArea = (S*(S-self.side1)*(S-self.side2)*(S-self.side3))**0.5\n",
    "        print(finalArea)\n",
    "        \n",
    "A = area(8,9,10)\n",
    "A.areaOfTriangle()"
   ]
  },
  {
   "cell_type": "markdown",
   "id": "37070b54",
   "metadata": {},
   "source": [
    "1.2 Write a function filter_long_words() that takes a list of words and an integer n and returns\n",
    "the list of words that are longer than n."
   ]
  },
  {
   "cell_type": "code",
   "execution_count": 2,
   "id": "677416ab",
   "metadata": {},
   "outputs": [
    {
     "name": "stdout",
     "output_type": "stream",
     "text": [
      "['red']\n"
     ]
    }
   ],
   "source": [
    "def filter_long_words(words,n):\n",
    "        \n",
    "        list = []\n",
    "        \n",
    "        for i in words:\n",
    "            if (len(i)<n):\n",
    "                list.append(i)\n",
    "            \n",
    "        print(list)\n",
    "     \n",
    "    \n",
    "    \n",
    "filter_long_words(['green', 'violets', 'blue', 'white', 'red'],4)\n",
    "    "
   ]
  },
  {
   "cell_type": "markdown",
   "id": "ad9747e7",
   "metadata": {},
   "source": [
    "2.1 Write a Python program using function concept that maps list of words into a list of integers\n",
    "representing the lengths of the corresponding words.\n",
    "Hint: If a list [ ab,cde,erty] is passed on to the python function output should come as [2,3,4]\n",
    "Here 2,3 and 4 are the lengths of the words in the list."
   ]
  },
  {
   "cell_type": "code",
   "execution_count": 3,
   "id": "0ed2c22f",
   "metadata": {},
   "outputs": [
    {
     "name": "stdout",
     "output_type": "stream",
     "text": [
      "[5, 7, 4, 5, 3]\n"
     ]
    }
   ],
   "source": [
    "def mapLength(listOfWords):\n",
    "    \n",
    "    length = []\n",
    "    \n",
    "    for i in listOfWords :\n",
    "        lengthofword = len(i)\n",
    "        length.append(lengthofword)\n",
    "    \n",
    "    print(length)\n",
    "    \n",
    "    \n",
    "\n",
    "    \n",
    "    \n",
    "mapLength(['green', 'violets', 'blue', 'white', 'red'])"
   ]
  },
  {
   "cell_type": "markdown",
   "id": "8ead42ec",
   "metadata": {},
   "source": [
    "2.2 Write a Python function which takes a character (i.e. a string of length 1) and returns True if\n",
    "it is a vowel, False otherwise."
   ]
  },
  {
   "cell_type": "code",
   "execution_count": 4,
   "id": "9671c97c",
   "metadata": {},
   "outputs": [
    {
     "data": {
      "text/plain": [
       "True"
      ]
     },
     "execution_count": 4,
     "metadata": {},
     "output_type": "execute_result"
    }
   ],
   "source": [
    "def isVowel(char):\n",
    "    if (char=='a' or char=='e' or char=='i' or char=='o' or char=='u'):\n",
    "        return True\n",
    "    else:\n",
    "        return False\n",
    "    \n",
    "    \n",
    "isVowel(\"o\")"
   ]
  },
  {
   "cell_type": "code",
   "execution_count": null,
   "id": "45774a86",
   "metadata": {},
   "outputs": [],
   "source": []
  }
 ],
 "metadata": {
  "kernelspec": {
   "display_name": "Python 3",
   "language": "python",
   "name": "python3"
  },
  "language_info": {
   "codemirror_mode": {
    "name": "ipython",
    "version": 3
   },
   "file_extension": ".py",
   "mimetype": "text/x-python",
   "name": "python",
   "nbconvert_exporter": "python",
   "pygments_lexer": "ipython3",
   "version": "3.8.8"
  }
 },
 "nbformat": 4,
 "nbformat_minor": 5
}
