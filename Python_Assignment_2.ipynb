{
 "cells": [
  {
   "cell_type": "code",
   "execution_count": 42,
   "id": "6dcda0f0",
   "metadata": {},
   "outputs": [
    {
     "name": "stdout",
     "output_type": "stream",
     "text": [
      "*\n",
      "**\n",
      "***\n",
      "****\n",
      "*****\n",
      "****\n",
      "***\n",
      "**\n",
      "*\n",
      "\n"
     ]
    }
   ],
   "source": [
    "row = 5\n",
    "\n",
    "for i in range (row):\n",
    "    for j in range (i+1):\n",
    "        print(\"*\", end=\"\")\n",
    "        \n",
    "    print()\n",
    "    \n",
    "for i in range (row,0,-1):\n",
    "    for j in range(i-1):\n",
    "        print(\"*\", end=\"\")\n",
    "        \n",
    "    print()\n",
    "        "
   ]
  },
  {
   "cell_type": "code",
   "execution_count": 43,
   "id": "c4259f37",
   "metadata": {},
   "outputs": [
    {
     "name": "stdout",
     "output_type": "stream",
     "text": [
      "ineuron\n",
      "norueni\n"
     ]
    }
   ],
   "source": [
    "inputname = input()\n",
    "length = len(inputname)\n",
    "reversename = \"\"\n",
    "\n",
    "for i in range (length, 0, -1):\n",
    "    reversename = reversename + inputname[i-1]\n",
    "    \n",
    "print(reversename)"
   ]
  },
  {
   "cell_type": "code",
   "execution_count": null,
   "id": "069d240f",
   "metadata": {},
   "outputs": [],
   "source": []
  }
 ],
 "metadata": {
  "kernelspec": {
   "display_name": "Python 3",
   "language": "python",
   "name": "python3"
  },
  "language_info": {
   "codemirror_mode": {
    "name": "ipython",
    "version": 3
   },
   "file_extension": ".py",
   "mimetype": "text/x-python",
   "name": "python",
   "nbconvert_exporter": "python",
   "pygments_lexer": "ipython3",
   "version": "3.8.8"
  }
 },
 "nbformat": 4,
 "nbformat_minor": 5
}
